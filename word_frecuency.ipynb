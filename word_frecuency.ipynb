{
 "cells": [
  {
   "cell_type": "code",
   "execution_count": 1,
   "metadata": {},
   "outputs": [
    {
     "name": "stderr",
     "output_type": "stream",
     "text": [
      "/Users/dany/.local/share/virtualenvs/cuba-digital-lang-9Kd57kqM/lib/python3.9/site-packages/tqdm/auto.py:22: TqdmWarning: IProgress not found. Please update jupyter and ipywidgets. See https://ipywidgets.readthedocs.io/en/stable/user_install.html\n",
      "  from .autonotebook import tqdm as notebook_tqdm\n"
     ]
    }
   ],
   "source": [
    "from submodulos.tokenizer.custom_tokenizer import SpacyCustomTokenizer\n",
    "from submodulos.data import get_all_text\n",
    "from submodulos.data.telegram import get_details_text\n",
    "from tools import get_progressbar\n",
    "from datetime import datetime\n",
    "import os\n",
    "\n",
    "nlp = SpacyCustomTokenizer()\n",
    "all = get_all_text(f'{os.getcwd()}/submodulos/data/')\n",
    "\n",
    "text_list = {\n",
    "    'CubaDebate': [],\n",
    "    'Facebook': [],\n",
    "    'Twitter': [],\n",
    "    'Telegram': []\n",
    "}\n",
    "\n",
    "texts = []\n",
    "for t, n in all:\n",
    "    text_list[n].append(t)\n",
    "    texts.append(t)\n",
    "\n",
    "twitter = text_list['Twitter']"
   ]
  },
  {
   "cell_type": "code",
   "execution_count": 2,
   "metadata": {},
   "outputs": [],
   "source": [
    "import json\n",
    "\n",
    "def tokenizer(texts):\n",
    "    bar = get_progressbar(len(texts), f' from {len(texts)} text, tokenizer and tag with date ')\n",
    "    bar.start()\n",
    "    token_list = []\n",
    "    for i, t in enumerate(texts):\n",
    "        for token in nlp(t):\n",
    "            token_list.append(token)\n",
    "        bar.update(i + 1)\n",
    "    bar.finish()\n",
    "    return token_list\n",
    "\n",
    "def disjoin(_list, predicate):\n",
    "    a, b = [], []\n",
    "    for item in _list:\n",
    "        if predicate(item): a.append(item)\n",
    "        else: b.append(item)\n",
    "\n",
    "def save(obj, path):\n",
    "    with open(f'results/{path}.json', 'w+') as f:\n",
    "        f.write(json.dumps(obj))    \n"
   ]
  },
  {
   "cell_type": "code",
   "execution_count": 3,
   "metadata": {},
   "outputs": [
    {
     "name": "stderr",
     "output_type": "stream",
     "text": [
      "[##########################] from 225680 text, tokenizer and tag with date 100%\n"
     ]
    }
   ],
   "source": [
    "tokens = tokenizer(twitter)"
   ]
  },
  {
   "cell_type": "code",
   "execution_count": 4,
   "metadata": {},
   "outputs": [
    {
     "ename": "TypeError",
     "evalue": "cannot unpack non-iterable NoneType object",
     "output_type": "error",
     "traceback": [
      "\u001b[0;31m---------------------------------------------------------------------------\u001b[0m",
      "\u001b[0;31mTypeError\u001b[0m                                 Traceback (most recent call last)",
      "\u001b[1;32m/Users/dany/src/school/cuba-digital-lang/script-to-data-analysis/word_frecuency.ipynb Cell 4'\u001b[0m in \u001b[0;36m<cell line: 1>\u001b[0;34m()\u001b[0m\n\u001b[0;32m----> <a href='vscode-notebook-cell:/Users/dany/src/school/cuba-digital-lang/script-to-data-analysis/word_frecuency.ipynb#ch0000003?line=0'>1</a>\u001b[0m emojis, tokens \u001b[39m=\u001b[39m disjoin(tokens, \u001b[39mlambda\u001b[39;00m t: t\u001b[39m.\u001b[39mis_emoji())\n",
      "\u001b[0;31mTypeError\u001b[0m: cannot unpack non-iterable NoneType object"
     ]
    }
   ],
   "source": [
    "emojis, tokens = disjoin(tokens, lambda t: t.is_emoji())"
   ]
  },
  {
   "cell_type": "code",
   "execution_count": null,
   "metadata": {},
   "outputs": [],
   "source": []
  }
 ],
 "metadata": {
  "kernelspec": {
   "display_name": "cuba-digital-lang",
   "language": "python",
   "name": "cuba-digital-lang"
  },
  "language_info": {
   "codemirror_mode": {
    "name": "ipython",
    "version": 3
   },
   "file_extension": ".py",
   "mimetype": "text/x-python",
   "name": "python",
   "nbconvert_exporter": "python",
   "pygments_lexer": "ipython3",
   "version": "3.9.10"
  },
  "orig_nbformat": 4
 },
 "nbformat": 4,
 "nbformat_minor": 2
}
