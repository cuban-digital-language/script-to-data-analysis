{
 "cells": [
  {
   "cell_type": "code",
   "execution_count": 1,
   "metadata": {},
   "outputs": [],
   "source": [
    "from word_db import WordDB\n",
    "from tools import get_progressbar\n",
    "\n",
    "word_db = WordDB(localhost='localhost', port=6379, db=2)"
   ]
  },
  {
   "cell_type": "code",
   "execution_count": 2,
   "metadata": {},
   "outputs": [
    {
     "name": "stderr",
     "output_type": "stream",
     "text": [
      "[#################################################] segmentation dict word 100%\n"
     ]
    }
   ],
   "source": [
    "error = []\n",
    "assets = []\n",
    "bar = get_progressbar(len(word_db), ' segmentation dict word ')\n",
    "bar.start()\n",
    "for i, keys in enumerate(word_db.db.keys()):\n",
    "    obj = word_db.get(keys)\n",
    "    keys = keys.decode()\n",
    "    if not obj is None and len(obj['rae']) == 1:\n",
    "        error.append(keys)\n",
    "    elif not obj is None : assets.append((keys, obj))\n",
    "    bar.update(i + 1)\n",
    "bar.finish()"
   ]
  },
  {
   "cell_type": "code",
   "execution_count": 3,
   "metadata": {},
   "outputs": [
    {
     "data": {
      "text/plain": [
       "30639"
      ]
     },
     "execution_count": 3,
     "metadata": {},
     "output_type": "execute_result"
    }
   ],
   "source": [
    "len(error)"
   ]
  },
  {
   "cell_type": "code",
   "execution_count": 4,
   "metadata": {},
   "outputs": [
    {
     "data": {
      "text/plain": [
       "37823"
      ]
     },
     "execution_count": 4,
     "metadata": {},
     "output_type": "execute_result"
    }
   ],
   "source": [
    "len(assets)"
   ]
  },
  {
   "cell_type": "code",
   "execution_count": 12,
   "metadata": {},
   "outputs": [],
   "source": [
    "etymology = []\n",
    "for key, obj in assets:\n",
    "    try:\n",
    "        rae = obj['rae']\n",
    "        a = rae['articles'][0]\n",
    "        supl = a['supplementary_info'][0]['text']\n",
    "        etymology.append((key, supl, supl.split(')')[0] + ')' ))\n",
    "    except: pass"
   ]
  },
  {
   "cell_type": "code",
   "execution_count": 7,
   "metadata": {},
   "outputs": [],
   "source": [
    "from spellchecker import "
   ]
  }
 ],
 "metadata": {
  "kernelspec": {
   "display_name": "cuba-digital-lang",
   "language": "python",
   "name": "cuba-digital-lang"
  },
  "language_info": {
   "codemirror_mode": {
    "name": "ipython",
    "version": 3
   },
   "file_extension": ".py",
   "mimetype": "text/x-python",
   "name": "python",
   "nbconvert_exporter": "python",
   "pygments_lexer": "ipython3",
   "version": "3.9.10"
  },
  "orig_nbformat": 4
 },
 "nbformat": 4,
 "nbformat_minor": 2
}
