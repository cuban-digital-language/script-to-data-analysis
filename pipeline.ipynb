{
 "cells": [
  {
   "cell_type": "code",
   "execution_count": 1,
   "metadata": {},
   "outputs": [
    {
     "name": "stderr",
     "output_type": "stream",
     "text": [
      "/Users/dany/.local/share/virtualenvs/cuba-digital-lang-9Kd57kqM/lib/python3.9/site-packages/tqdm/auto.py:22: TqdmWarning: IProgress not found. Please update jupyter and ipywidgets. See https://ipywidgets.readthedocs.io/en/stable/user_install.html\n",
      "  from .autonotebook import tqdm as notebook_tqdm\n"
     ]
    },
    {
     "data": {
      "text/plain": [
       "{'CubaDebate': 63452, 'Facebook': 287, 'Twitter': 109941, 'Telegram': 156440}"
      ]
     },
     "execution_count": 1,
     "metadata": {},
     "output_type": "execute_result"
    }
   ],
   "source": [
    "from submodulos.tokenizer.custom_tokenizer import SpacyCustomTokenizer\n",
    "from submodulos.data import get_all_text_with_details, fb\n",
    "from tools import get_progressbar\n",
    "from datetime import datetime\n",
    "import os\n",
    "from word_db import WordDB\n",
    "\n",
    "word_db = WordDB(localhost='localhost', port=6379, db=2)\n",
    "corpus = fb.get_details_text(f'{os.getcwd()}/submodulos/data/')\n",
    "name = 'facebook'\n",
    "\n",
    "\n",
    "texts = get_all_text_with_details(f'{os.getcwd()}/submodulos/data/')\n",
    "\n",
    "text_list = {\n",
    "    'CubaDebate': 0,\n",
    "    'Facebook': 0,\n",
    "    'Twitter': 0,\n",
    "    'Telegram': 0\n",
    "}\n",
    "\n",
    "for t, d, n in texts:\n",
    "    text_list[n] += 1\n",
    "\n",
    "text_list"
   ]
  },
  {
   "cell_type": "code",
   "execution_count": 55,
   "metadata": {},
   "outputs": [],
   "source": [
    "class Data:\n",
    "    date_distribution = {}\n",
    "    date_size = {}\n",
    "    \n",
    "    def __init__(self, name):\n",
    "        self.name = name\n",
    "\n",
    "    def save(self):\n",
    "        result = '{\\n'\n",
    "        result += f'\"date_distribution\": {str(self.date_distribution)},\\n'\n",
    "        result += f'\"date_size\": {str(self.date_size)},\\n'\n",
    "        result += '}'\n",
    "\n",
    "        with open(f'results/{self.name}.json', 'w+') as f:\n",
    "            f.write(result)\n",
    "            f.close()\n",
    "\n",
    "\n",
    "def print_best_word(list_):\n",
    "    for i in range(20):\n",
    "        print(list_[i], end=' ')\n",
    "\n",
    "\n",
    "\n"
   ]
  },
  {
   "cell_type": "code",
   "execution_count": 4,
   "metadata": {},
   "outputs": [
    {
     "ename": "error",
     "evalue": "nothing to repeat at position 9631",
     "output_type": "error",
     "traceback": [
      "\u001b[0;31m---------------------------------------------------------------------------\u001b[0m",
      "\u001b[0;31merror\u001b[0m                                     Traceback (most recent call last)",
      "\u001b[1;32m/Users/dany/src/school/cuba-digital-lang/script-to-data-analysis/pipeline.ipynb Cell 3'\u001b[0m in \u001b[0;36m<cell line: 1>\u001b[0;34m()\u001b[0m\n\u001b[0;32m----> <a href='vscode-notebook-cell:/Users/dany/src/school/cuba-digital-lang/script-to-data-analysis/pipeline.ipynb#ch0000002?line=0'>1</a>\u001b[0m nlp \u001b[39m=\u001b[39m SpacyCustomTokenizer()\n",
      "File \u001b[0;32m~/src/school/cuba-digital-lang/script-to-data-analysis/submodulos/tokenizer/custom_tokenizer.py:114\u001b[0m, in \u001b[0;36mSpacyCustomTokenizer.__init__\u001b[0;34m(self, special_cases)\u001b[0m\n\u001b[1;32m    <a href='file:///Users/dany/src/school/cuba-digital-lang/script-to-data-analysis/submodulos/tokenizer/custom_tokenizer.py?line=110'>111</a>\u001b[0m \u001b[39mfor\u001b[39;00m reg \u001b[39min\u001b[39;00m \u001b[39mself\u001b[39m\u001b[39m.\u001b[39mdelete_prefix_regex:\n\u001b[1;32m    <a href='file:///Users/dany/src/school/cuba-digital-lang/script-to-data-analysis/submodulos/tokenizer/custom_tokenizer.py?line=111'>112</a>\u001b[0m     prefixes\u001b[39m.\u001b[39mremove(reg)\n\u001b[0;32m--> <a href='file:///Users/dany/src/school/cuba-digital-lang/script-to-data-analysis/submodulos/tokenizer/custom_tokenizer.py?line=113'>114</a>\u001b[0m \u001b[39mself\u001b[39m\u001b[39m.\u001b[39mprefix_regex \u001b[39m=\u001b[39m compile_prefix_regex(\n\u001b[1;32m    <a href='file:///Users/dany/src/school/cuba-digital-lang/script-to-data-analysis/submodulos/tokenizer/custom_tokenizer.py?line=114'>115</a>\u001b[0m     prefixes \u001b[39m+\u001b[39;49m \u001b[39mself\u001b[39;49m\u001b[39m.\u001b[39;49mprefix_regex \u001b[39m+\u001b[39;49m \u001b[39mself\u001b[39;49m\u001b[39m.\u001b[39;49mbasic_regex \u001b[39m+\u001b[39;49m \u001b[39mself\u001b[39;49m\u001b[39m.\u001b[39;49msp_fix_regex)\n\u001b[1;32m    <a href='file:///Users/dany/src/school/cuba-digital-lang/script-to-data-analysis/submodulos/tokenizer/custom_tokenizer.py?line=116'>117</a>\u001b[0m suffixes \u001b[39m=\u001b[39m \u001b[39mlist\u001b[39m(\u001b[39mself\u001b[39m\u001b[39m.\u001b[39mnlp\u001b[39m.\u001b[39mDefaults\u001b[39m.\u001b[39msuffixes)\n\u001b[1;32m    <a href='file:///Users/dany/src/school/cuba-digital-lang/script-to-data-analysis/submodulos/tokenizer/custom_tokenizer.py?line=117'>118</a>\u001b[0m \u001b[39mfor\u001b[39;00m reg \u001b[39min\u001b[39;00m \u001b[39mself\u001b[39m\u001b[39m.\u001b[39mdelete_suffix_regex:\n",
      "File \u001b[0;32m~/.local/share/virtualenvs/cuba-digital-lang-9Kd57kqM/lib/python3.9/site-packages/spacy/util.py:1109\u001b[0m, in \u001b[0;36mcompile_prefix_regex\u001b[0;34m(entries)\u001b[0m\n\u001b[1;32m   <a href='file:///Users/dany/.local/share/virtualenvs/cuba-digital-lang-9Kd57kqM/lib/python3.9/site-packages/spacy/util.py?line=1101'>1102</a>\u001b[0m \u001b[39m\"\"\"Compile a sequence of prefix rules into a regex object.\u001b[39;00m\n\u001b[1;32m   <a href='file:///Users/dany/.local/share/virtualenvs/cuba-digital-lang-9Kd57kqM/lib/python3.9/site-packages/spacy/util.py?line=1102'>1103</a>\u001b[0m \n\u001b[1;32m   <a href='file:///Users/dany/.local/share/virtualenvs/cuba-digital-lang-9Kd57kqM/lib/python3.9/site-packages/spacy/util.py?line=1103'>1104</a>\u001b[0m \u001b[39mentries (Iterable[Union[str, Pattern]]): The prefix rules, e.g.\u001b[39;00m\n\u001b[1;32m   <a href='file:///Users/dany/.local/share/virtualenvs/cuba-digital-lang-9Kd57kqM/lib/python3.9/site-packages/spacy/util.py?line=1104'>1105</a>\u001b[0m \u001b[39m    spacy.lang.punctuation.TOKENIZER_PREFIXES.\u001b[39;00m\n\u001b[1;32m   <a href='file:///Users/dany/.local/share/virtualenvs/cuba-digital-lang-9Kd57kqM/lib/python3.9/site-packages/spacy/util.py?line=1105'>1106</a>\u001b[0m \u001b[39mRETURNS (Pattern): The regex object. to be used for Tokenizer.prefix_search.\u001b[39;00m\n\u001b[1;32m   <a href='file:///Users/dany/.local/share/virtualenvs/cuba-digital-lang-9Kd57kqM/lib/python3.9/site-packages/spacy/util.py?line=1106'>1107</a>\u001b[0m \u001b[39m\"\"\"\u001b[39;00m\n\u001b[1;32m   <a href='file:///Users/dany/.local/share/virtualenvs/cuba-digital-lang-9Kd57kqM/lib/python3.9/site-packages/spacy/util.py?line=1107'>1108</a>\u001b[0m expression \u001b[39m=\u001b[39m \u001b[39m\"\u001b[39m\u001b[39m|\u001b[39m\u001b[39m\"\u001b[39m\u001b[39m.\u001b[39mjoin([\u001b[39m\"\u001b[39m\u001b[39m^\u001b[39m\u001b[39m\"\u001b[39m \u001b[39m+\u001b[39m piece \u001b[39mfor\u001b[39;00m piece \u001b[39min\u001b[39;00m entries \u001b[39mif\u001b[39;00m piece\u001b[39m.\u001b[39mstrip()])  \u001b[39m# type: ignore[operator, union-attr]\u001b[39;00m\n\u001b[0;32m-> <a href='file:///Users/dany/.local/share/virtualenvs/cuba-digital-lang-9Kd57kqM/lib/python3.9/site-packages/spacy/util.py?line=1108'>1109</a>\u001b[0m \u001b[39mreturn\u001b[39;00m re\u001b[39m.\u001b[39;49mcompile(expression)\n",
      "File \u001b[0;32m/opt/homebrew/Cellar/python@3.9/3.9.10/Frameworks/Python.framework/Versions/3.9/lib/python3.9/re.py:252\u001b[0m, in \u001b[0;36mcompile\u001b[0;34m(pattern, flags)\u001b[0m\n\u001b[1;32m    <a href='file:///opt/homebrew/Cellar/python%403.9/3.9.10/Frameworks/Python.framework/Versions/3.9/lib/python3.9/re.py?line=249'>250</a>\u001b[0m \u001b[39mdef\u001b[39;00m \u001b[39mcompile\u001b[39m(pattern, flags\u001b[39m=\u001b[39m\u001b[39m0\u001b[39m):\n\u001b[1;32m    <a href='file:///opt/homebrew/Cellar/python%403.9/3.9.10/Frameworks/Python.framework/Versions/3.9/lib/python3.9/re.py?line=250'>251</a>\u001b[0m     \u001b[39m\"\u001b[39m\u001b[39mCompile a regular expression pattern, returning a Pattern object.\u001b[39m\u001b[39m\"\u001b[39m\n\u001b[0;32m--> <a href='file:///opt/homebrew/Cellar/python%403.9/3.9.10/Frameworks/Python.framework/Versions/3.9/lib/python3.9/re.py?line=251'>252</a>\u001b[0m     \u001b[39mreturn\u001b[39;00m _compile(pattern, flags)\n",
      "File \u001b[0;32m/opt/homebrew/Cellar/python@3.9/3.9.10/Frameworks/Python.framework/Versions/3.9/lib/python3.9/re.py:304\u001b[0m, in \u001b[0;36m_compile\u001b[0;34m(pattern, flags)\u001b[0m\n\u001b[1;32m    <a href='file:///opt/homebrew/Cellar/python%403.9/3.9.10/Frameworks/Python.framework/Versions/3.9/lib/python3.9/re.py?line=301'>302</a>\u001b[0m \u001b[39mif\u001b[39;00m \u001b[39mnot\u001b[39;00m sre_compile\u001b[39m.\u001b[39misstring(pattern):\n\u001b[1;32m    <a href='file:///opt/homebrew/Cellar/python%403.9/3.9.10/Frameworks/Python.framework/Versions/3.9/lib/python3.9/re.py?line=302'>303</a>\u001b[0m     \u001b[39mraise\u001b[39;00m \u001b[39mTypeError\u001b[39;00m(\u001b[39m\"\u001b[39m\u001b[39mfirst argument must be string or compiled pattern\u001b[39m\u001b[39m\"\u001b[39m)\n\u001b[0;32m--> <a href='file:///opt/homebrew/Cellar/python%403.9/3.9.10/Frameworks/Python.framework/Versions/3.9/lib/python3.9/re.py?line=303'>304</a>\u001b[0m p \u001b[39m=\u001b[39m sre_compile\u001b[39m.\u001b[39;49mcompile(pattern, flags)\n\u001b[1;32m    <a href='file:///opt/homebrew/Cellar/python%403.9/3.9.10/Frameworks/Python.framework/Versions/3.9/lib/python3.9/re.py?line=304'>305</a>\u001b[0m \u001b[39mif\u001b[39;00m \u001b[39mnot\u001b[39;00m (flags \u001b[39m&\u001b[39m DEBUG):\n\u001b[1;32m    <a href='file:///opt/homebrew/Cellar/python%403.9/3.9.10/Frameworks/Python.framework/Versions/3.9/lib/python3.9/re.py?line=305'>306</a>\u001b[0m     \u001b[39mif\u001b[39;00m \u001b[39mlen\u001b[39m(_cache) \u001b[39m>\u001b[39m\u001b[39m=\u001b[39m _MAXCACHE:\n\u001b[1;32m    <a href='file:///opt/homebrew/Cellar/python%403.9/3.9.10/Frameworks/Python.framework/Versions/3.9/lib/python3.9/re.py?line=306'>307</a>\u001b[0m         \u001b[39m# Drop the oldest item\u001b[39;00m\n",
      "File \u001b[0;32m/opt/homebrew/Cellar/python@3.9/3.9.10/Frameworks/Python.framework/Versions/3.9/lib/python3.9/sre_compile.py:764\u001b[0m, in \u001b[0;36mcompile\u001b[0;34m(p, flags)\u001b[0m\n\u001b[1;32m    <a href='file:///opt/homebrew/Cellar/python%403.9/3.9.10/Frameworks/Python.framework/Versions/3.9/lib/python3.9/sre_compile.py?line=761'>762</a>\u001b[0m \u001b[39mif\u001b[39;00m isstring(p):\n\u001b[1;32m    <a href='file:///opt/homebrew/Cellar/python%403.9/3.9.10/Frameworks/Python.framework/Versions/3.9/lib/python3.9/sre_compile.py?line=762'>763</a>\u001b[0m     pattern \u001b[39m=\u001b[39m p\n\u001b[0;32m--> <a href='file:///opt/homebrew/Cellar/python%403.9/3.9.10/Frameworks/Python.framework/Versions/3.9/lib/python3.9/sre_compile.py?line=763'>764</a>\u001b[0m     p \u001b[39m=\u001b[39m sre_parse\u001b[39m.\u001b[39;49mparse(p, flags)\n\u001b[1;32m    <a href='file:///opt/homebrew/Cellar/python%403.9/3.9.10/Frameworks/Python.framework/Versions/3.9/lib/python3.9/sre_compile.py?line=764'>765</a>\u001b[0m \u001b[39melse\u001b[39;00m:\n\u001b[1;32m    <a href='file:///opt/homebrew/Cellar/python%403.9/3.9.10/Frameworks/Python.framework/Versions/3.9/lib/python3.9/sre_compile.py?line=765'>766</a>\u001b[0m     pattern \u001b[39m=\u001b[39m \u001b[39mNone\u001b[39;00m\n",
      "File \u001b[0;32m/opt/homebrew/Cellar/python@3.9/3.9.10/Frameworks/Python.framework/Versions/3.9/lib/python3.9/sre_parse.py:948\u001b[0m, in \u001b[0;36mparse\u001b[0;34m(str, flags, state)\u001b[0m\n\u001b[1;32m    <a href='file:///opt/homebrew/Cellar/python%403.9/3.9.10/Frameworks/Python.framework/Versions/3.9/lib/python3.9/sre_parse.py?line=944'>945</a>\u001b[0m state\u001b[39m.\u001b[39mstr \u001b[39m=\u001b[39m \u001b[39mstr\u001b[39m\n\u001b[1;32m    <a href='file:///opt/homebrew/Cellar/python%403.9/3.9.10/Frameworks/Python.framework/Versions/3.9/lib/python3.9/sre_parse.py?line=946'>947</a>\u001b[0m \u001b[39mtry\u001b[39;00m:\n\u001b[0;32m--> <a href='file:///opt/homebrew/Cellar/python%403.9/3.9.10/Frameworks/Python.framework/Versions/3.9/lib/python3.9/sre_parse.py?line=947'>948</a>\u001b[0m     p \u001b[39m=\u001b[39m _parse_sub(source, state, flags \u001b[39m&\u001b[39;49m SRE_FLAG_VERBOSE, \u001b[39m0\u001b[39;49m)\n\u001b[1;32m    <a href='file:///opt/homebrew/Cellar/python%403.9/3.9.10/Frameworks/Python.framework/Versions/3.9/lib/python3.9/sre_parse.py?line=948'>949</a>\u001b[0m \u001b[39mexcept\u001b[39;00m Verbose:\n\u001b[1;32m    <a href='file:///opt/homebrew/Cellar/python%403.9/3.9.10/Frameworks/Python.framework/Versions/3.9/lib/python3.9/sre_parse.py?line=949'>950</a>\u001b[0m     \u001b[39m# the VERBOSE flag was switched on inside the pattern.  to be\u001b[39;00m\n\u001b[1;32m    <a href='file:///opt/homebrew/Cellar/python%403.9/3.9.10/Frameworks/Python.framework/Versions/3.9/lib/python3.9/sre_parse.py?line=950'>951</a>\u001b[0m     \u001b[39m# on the safe side, we'll parse the whole thing again...\u001b[39;00m\n\u001b[1;32m    <a href='file:///opt/homebrew/Cellar/python%403.9/3.9.10/Frameworks/Python.framework/Versions/3.9/lib/python3.9/sre_parse.py?line=951'>952</a>\u001b[0m     state \u001b[39m=\u001b[39m State()\n",
      "File \u001b[0;32m/opt/homebrew/Cellar/python@3.9/3.9.10/Frameworks/Python.framework/Versions/3.9/lib/python3.9/sre_parse.py:443\u001b[0m, in \u001b[0;36m_parse_sub\u001b[0;34m(source, state, verbose, nested)\u001b[0m\n\u001b[1;32m    <a href='file:///opt/homebrew/Cellar/python%403.9/3.9.10/Frameworks/Python.framework/Versions/3.9/lib/python3.9/sre_parse.py?line=440'>441</a>\u001b[0m start \u001b[39m=\u001b[39m source\u001b[39m.\u001b[39mtell()\n\u001b[1;32m    <a href='file:///opt/homebrew/Cellar/python%403.9/3.9.10/Frameworks/Python.framework/Versions/3.9/lib/python3.9/sre_parse.py?line=441'>442</a>\u001b[0m \u001b[39mwhile\u001b[39;00m \u001b[39mTrue\u001b[39;00m:\n\u001b[0;32m--> <a href='file:///opt/homebrew/Cellar/python%403.9/3.9.10/Frameworks/Python.framework/Versions/3.9/lib/python3.9/sre_parse.py?line=442'>443</a>\u001b[0m     itemsappend(_parse(source, state, verbose, nested \u001b[39m+\u001b[39;49m \u001b[39m1\u001b[39;49m,\n\u001b[1;32m    <a href='file:///opt/homebrew/Cellar/python%403.9/3.9.10/Frameworks/Python.framework/Versions/3.9/lib/python3.9/sre_parse.py?line=443'>444</a>\u001b[0m                        \u001b[39mnot\u001b[39;49;00m nested \u001b[39mand\u001b[39;49;00m \u001b[39mnot\u001b[39;49;00m items))\n\u001b[1;32m    <a href='file:///opt/homebrew/Cellar/python%403.9/3.9.10/Frameworks/Python.framework/Versions/3.9/lib/python3.9/sre_parse.py?line=444'>445</a>\u001b[0m     \u001b[39mif\u001b[39;00m \u001b[39mnot\u001b[39;00m sourcematch(\u001b[39m\"\u001b[39m\u001b[39m|\u001b[39m\u001b[39m\"\u001b[39m):\n\u001b[1;32m    <a href='file:///opt/homebrew/Cellar/python%403.9/3.9.10/Frameworks/Python.framework/Versions/3.9/lib/python3.9/sre_parse.py?line=445'>446</a>\u001b[0m         \u001b[39mbreak\u001b[39;00m\n",
      "File \u001b[0;32m/opt/homebrew/Cellar/python@3.9/3.9.10/Frameworks/Python.framework/Versions/3.9/lib/python3.9/sre_parse.py:668\u001b[0m, in \u001b[0;36m_parse\u001b[0;34m(source, state, verbose, nested, first)\u001b[0m\n\u001b[1;32m    <a href='file:///opt/homebrew/Cellar/python%403.9/3.9.10/Frameworks/Python.framework/Versions/3.9/lib/python3.9/sre_parse.py?line=665'>666</a>\u001b[0m     item \u001b[39m=\u001b[39m \u001b[39mNone\u001b[39;00m\n\u001b[1;32m    <a href='file:///opt/homebrew/Cellar/python%403.9/3.9.10/Frameworks/Python.framework/Versions/3.9/lib/python3.9/sre_parse.py?line=666'>667</a>\u001b[0m \u001b[39mif\u001b[39;00m \u001b[39mnot\u001b[39;00m item \u001b[39mor\u001b[39;00m item[\u001b[39m0\u001b[39m][\u001b[39m0\u001b[39m] \u001b[39mis\u001b[39;00m AT:\n\u001b[0;32m--> <a href='file:///opt/homebrew/Cellar/python%403.9/3.9.10/Frameworks/Python.framework/Versions/3.9/lib/python3.9/sre_parse.py?line=667'>668</a>\u001b[0m     \u001b[39mraise\u001b[39;00m source\u001b[39m.\u001b[39merror(\u001b[39m\"\u001b[39m\u001b[39mnothing to repeat\u001b[39m\u001b[39m\"\u001b[39m,\n\u001b[1;32m    <a href='file:///opt/homebrew/Cellar/python%403.9/3.9.10/Frameworks/Python.framework/Versions/3.9/lib/python3.9/sre_parse.py?line=668'>669</a>\u001b[0m                        source\u001b[39m.\u001b[39mtell() \u001b[39m-\u001b[39m here \u001b[39m+\u001b[39m \u001b[39mlen\u001b[39m(this))\n\u001b[1;32m    <a href='file:///opt/homebrew/Cellar/python%403.9/3.9.10/Frameworks/Python.framework/Versions/3.9/lib/python3.9/sre_parse.py?line=669'>670</a>\u001b[0m \u001b[39mif\u001b[39;00m item[\u001b[39m0\u001b[39m][\u001b[39m0\u001b[39m] \u001b[39min\u001b[39;00m _REPEATCODES:\n\u001b[1;32m    <a href='file:///opt/homebrew/Cellar/python%403.9/3.9.10/Frameworks/Python.framework/Versions/3.9/lib/python3.9/sre_parse.py?line=670'>671</a>\u001b[0m     \u001b[39mraise\u001b[39;00m source\u001b[39m.\u001b[39merror(\u001b[39m\"\u001b[39m\u001b[39mmultiple repeat\u001b[39m\u001b[39m\"\u001b[39m,\n\u001b[1;32m    <a href='file:///opt/homebrew/Cellar/python%403.9/3.9.10/Frameworks/Python.framework/Versions/3.9/lib/python3.9/sre_parse.py?line=671'>672</a>\u001b[0m                        source\u001b[39m.\u001b[39mtell() \u001b[39m-\u001b[39m here \u001b[39m+\u001b[39m \u001b[39mlen\u001b[39m(this))\n",
      "\u001b[0;31merror\u001b[0m: nothing to repeat at position 9631"
     ]
    }
   ],
   "source": [
    "nlp = SpacyCustomTokenizer()"
   ]
  },
  {
   "cell_type": "code",
   "execution_count": null,
   "metadata": {},
   "outputs": [],
   "source": [
    "\n",
    "bar = get_progressbar(len(corpus), f' from {len(corpus)} text, tokenizer and tag with date ')\n",
    "bar.start()\n",
    "token_list = []\n",
    "for i, data in enumerate(corpus):\n",
    "    t, d, n = data\n",
    "    for token in nlp(t):\n",
    "        token.data = d\n",
    "        token.source = n\n",
    "        token_list.append(token)\n",
    "    bar.update(i + 1)\n",
    "bar.finish()"
   ]
  },
  {
   "cell_type": "markdown",
   "metadata": {},
   "source": [
    "## Corpus Clustering "
   ]
  },
  {
   "cell_type": "code",
   "execution_count": 19,
   "metadata": {},
   "outputs": [],
   "source": [
    "def disjoin(_list, predicate, name = 'any feature'):\n",
    "    a, b = [], []\n",
    "    for item in _list:\n",
    "        if predicate(item): a.append(item)\n",
    "        else: b.append(item)\n",
    "\n",
    "    print(name, len(a), len(b))\n",
    "    return a, b"
   ]
  },
  {
   "cell_type": "code",
   "execution_count": 29,
   "metadata": {},
   "outputs": [
    {
     "name": "stdout",
     "output_type": "stream",
     "text": [
      "emoji 620 14667\n",
      "hashtag 126 14541\n",
      "user_tag 4 14537\n",
      "symbol 1870 12667\n",
      "space 2305 10362\n",
      "url 34 10328\n"
     ]
    }
   ],
   "source": [
    "emojis, tokens = disjoin(token_list, lambda x : x.is_emoji(), 'emoji')\n",
    "hashtags, tokens = disjoin(tokens, lambda x: x.is_hashtag(), 'hashtag') \n",
    "user_tags, tokens = disjoin(tokens, lambda x: x.is_user_tag(), 'user_tag') \n",
    "symbol, tokens = disjoin(tokens, lambda x: x.is_symbol, 'symbol')\n",
    "space, tokens = disjoin(tokens, lambda x: x.space() or len(x.text) == 0, 'space')\n",
    "urls, tokens = disjoin(tokens, lambda x: x.is_url(), 'url')\n"
   ]
  },
  {
   "cell_type": "code",
   "execution_count": 34,
   "metadata": {},
   "outputs": [
    {
     "name": "stdout",
     "output_type": "stream",
     "text": [
      "any feature 93 10235\n"
     ]
    },
    {
     "data": {
      "text/plain": [
       "'️'"
      ]
     },
     "execution_count": 34,
     "metadata": {},
     "output_type": "execute_result"
    }
   ],
   "source": [
    "unknown, _ = disjoin(tokens, lambda x: x.unknown())\n",
    "\n",
    "# for token in unknown:\n",
    "#     print(token.text, end=' |')\n",
    "\n",
    "unknown[0].text"
   ]
  },
  {
   "cell_type": "code",
   "execution_count": 16,
   "metadata": {},
   "outputs": [],
   "source": [
    "## numbers\n",
    "## @\n",
    "## symbols"
   ]
  },
  {
   "cell_type": "code",
   "execution_count": 35,
   "metadata": {},
   "outputs": [
    {
     "name": "stdout",
     "output_type": "stream",
     "text": [
      "any feature 9749 579\n"
     ]
    }
   ],
   "source": [
    "natural, _ = disjoin(tokens, lambda x: x.natural_word())"
   ]
  },
  {
   "cell_type": "code",
   "execution_count": 43,
   "metadata": {},
   "outputs": [
    {
     "name": "stderr",
     "output_type": "stream",
     "text": [
      "[######################################################] dictionary search 100%\r"
     ]
    },
    {
     "name": "stdout",
     "output_type": "stream",
     "text": [
      "574 6758\n"
     ]
    },
    {
     "name": "stderr",
     "output_type": "stream",
     "text": [
      "\n"
     ]
    }
   ],
   "source": [
    "error = []\n",
    "correct = []\n",
    "\n",
    "bar = get_progressbar(len(natural), ' dictionary search ')\n",
    "bar.start()\n",
    "for i, token in enumerate(natural):\n",
    "    obj = word_db.get(token.text)\n",
    "    if obj is None or obj == 'None' or len(obj) == 0: continue\n",
    "    if len(obj['rae']) == 1: error.append(token)\n",
    "    else: correct.append((token, obj['rae']['articles']))\n",
    "    bar.update(i + 1)\n",
    "bar.finish()\n",
    "\n",
    "print(len(error), len(correct))"
   ]
  },
  {
   "cell_type": "code",
   "execution_count": 46,
   "metadata": {},
   "outputs": [
    {
     "name": "stdout",
     "output_type": "stream",
     "text": [
      "one def 4698 2060\n"
     ]
    }
   ],
   "source": [
    "one_def, mult_def = disjoin(correct, lambda x: len(x[1]) == 1, 'one def')"
   ]
  },
  {
   "cell_type": "code",
   "execution_count": 47,
   "metadata": {},
   "outputs": [],
   "source": [
    "# get etymology\n",
    "# get teclado error\n",
    "# get neutral error \n",
    "# get english word"
   ]
  },
  {
   "cell_type": "markdown",
   "metadata": {},
   "source": [
    "## Word Frequency"
   ]
  },
  {
   "cell_type": "code",
   "execution_count": 53,
   "metadata": {},
   "outputs": [],
   "source": [
    "def sorted_by_dict(d):\n",
    "    result = [(key, d[key] )for key in d]\n",
    "    result.sort(key= lambda x: x[1], reverse= True)\n",
    "    return result\n",
    "\n",
    "def count_tokens (tokens, predicate = lambda x: True, name = ' count any feature '):\n",
    "    bar = get_progressbar(len(tokens), name)\n",
    "\n",
    "    result = {}\n",
    "    bar.start()\n",
    "    for i, t in enumerate(tokens):\n",
    "        if not predicate(t): continue\n",
    "        try: result[t.text.lower()] += 1\n",
    "        except KeyError: \n",
    "            result[t.text.lower()] = 1\n",
    "            \n",
    "        bar.update(i + 1)\n",
    "    bar.finish()\n",
    "\n",
    "    return result, sorted_by_dict(result)"
   ]
  },
  {
   "cell_type": "code",
   "execution_count": 56,
   "metadata": {},
   "outputs": [
    {
     "name": "stderr",
     "output_type": "stream",
     "text": [
      "[######################################################] count any feature 100%\r"
     ]
    },
    {
     "name": "stdout",
     "output_type": "stream",
     "text": [
      "('‼', 52) ('👇', 29) ('🚨', 27) ('❤', 25) ('🐬', 20) ('👌', 19) ('🛑', 15) ('🐴', 15) ('👉', 14) ('📲', 13) ('🏻', 13) ('👈', 12) ('🎉', 11) ('🚌', 11) ('🙌', 9) ('😉', 8) ('🤣', 8) ('📱', 7) ('✅', 7) ('💯', 7) "
     ]
    },
    {
     "name": "stderr",
     "output_type": "stream",
     "text": [
      "\n"
     ]
    }
   ],
   "source": [
    "d, count = count_tokens(emojis)\n",
    "\n",
    "print_best_word(count)"
   ]
  },
  {
   "cell_type": "markdown",
   "metadata": {},
   "source": [
    "## Word Time Distribution "
   ]
  },
  {
   "cell_type": "code",
   "execution_count": 51,
   "metadata": {},
   "outputs": [],
   "source": [
    "def density_time(tokens, predicate = lambda x: True, name= ' count any feature '):\n",
    "    bar = get_progressbar(len(tokens), name)\n",
    "\n",
    "    result = {}\n",
    "    bar.start()\n",
    "    for i, t in enumerate(tokens):\n",
    "        if not predicate(t): continue\n",
    "        date = str(datetime.strptime(t.data.split(' ')[0], '%Y-%m-%d'))\n",
    "        try: result[date][t.text.lower()] += 1\n",
    "        except KeyError: \n",
    "            try: result[date][t.text.lower()] = 1\n",
    "            except KeyError: \n",
    "                result[date] = {}\n",
    "                result[date][t.text.lower()] = 1\n",
    "            \n",
    "        bar.update(i + 1)\n",
    "    bar.finish()\n",
    "\n",
    "    return result\n",
    "\n",
    "def density_text_by_time(texts, name= ' count any feature '):\n",
    "    bar = get_progressbar(len(texts), name)\n",
    "\n",
    "    result = {}\n",
    "    bar.start()\n",
    "    for i, t in enumerate(texts):\n",
    "        t, d, _ = t\n",
    "        date = str(datetime.strptime(d.split(' ')[0], '%Y-%m-%d'))\n",
    "        try: result[date] += 1\n",
    "        except KeyError: \n",
    "            result[date] = 1\n",
    "            \n",
    "        bar.update(i + 1)\n",
    "    bar.finish()\n",
    "\n",
    "    return result"
   ]
  },
  {
   "cell_type": "code",
   "execution_count": 52,
   "metadata": {},
   "outputs": [
    {
     "name": "stderr",
     "output_type": "stream",
     "text": [
      "[######################################################] count any feature 100%\n",
      "[######################################################] count any feature 100%\n"
     ]
    }
   ],
   "source": [
    "density_text = density_text_by_time(corpus)\n",
    "density_tokens = density_time(tokens)"
   ]
  },
  {
   "cell_type": "code",
   "execution_count": null,
   "metadata": {},
   "outputs": [],
   "source": []
  }
 ],
 "metadata": {
  "kernelspec": {
   "display_name": "cuba-digital-lang",
   "language": "python",
   "name": "cuba-digital-lang"
  },
  "language_info": {
   "codemirror_mode": {
    "name": "ipython",
    "version": 3
   },
   "file_extension": ".py",
   "mimetype": "text/x-python",
   "name": "python",
   "nbconvert_exporter": "python",
   "pygments_lexer": "ipython3",
   "version": "3.9.10"
  },
  "orig_nbformat": 4
 },
 "nbformat": 4,
 "nbformat_minor": 2
}
