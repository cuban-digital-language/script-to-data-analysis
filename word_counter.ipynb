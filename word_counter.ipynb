{
 "cells": [
  {
   "cell_type": "code",
   "execution_count": 55,
   "metadata": {},
   "outputs": [],
   "source": [
    "from submodulos.tokenizer.custom_tokenizer import SpacyCustomTokenizer\n",
    "import data.cubadebate as cb\n",
    "from tools import get_progressbar\n",
    "from datetime import datetime\n",
    "\n",
    "texts = cb.get_details_text()\n",
    "name = 'cubadebate'"
   ]
  },
  {
   "cell_type": "code",
   "execution_count": 59,
   "metadata": {},
   "outputs": [],
   "source": [
    "def sorted_by_dict(d):\n",
    "    result = [(key, d[key] )for key in d]\n",
    "    result.sort(key= lambda x: x[1], reverse= True)\n",
    "    return result\n",
    "\n",
    "def print_best_word(list_):\n",
    "    for i in range(20):\n",
    "        print(list_[i], end=' ')\n",
    "\n",
    "def total_len(d):\n",
    "    return sum([d[key] for key in d])\n",
    "\n",
    "def count(tokens, predicate, name= ' count any feature ', map_= lambda x: x.text):\n",
    "    bar = get_progressbar(len(tokens), name)\n",
    "\n",
    "    result = {}\n",
    "    bar.start()\n",
    "    for i, t in enumerate(tokens):\n",
    "        if not predicate(t): continue\n",
    "        try: result[map_(t)] += 1\n",
    "        except: result[map_(t)] = 1\n",
    "        bar.update(i + 1)\n",
    "    bar.finish()\n",
    "\n",
    "    return result\n",
    "\n",
    "def density_time(tokens, predicate, name= ' count any feature '):\n",
    "    bar = get_progressbar(len(tokens), name)\n",
    "\n",
    "    result = {}\n",
    "    bar.start()\n",
    "    for i, t in enumerate(tokens):\n",
    "        if not predicate(t): continue\n",
    "        date = datetime.strptime(t.data.split(' ')[0], '%Y-%m-%d')\n",
    "        try: result[date][t.text.lower()] += 1\n",
    "        except KeyError: \n",
    "            try: result[date][t.text.lower()] = 1\n",
    "            except KeyError: \n",
    "                result[date] = {}\n",
    "                result[date][t.text.lower()] = 1\n",
    "            \n",
    "        bar.update(i + 1)\n",
    "    bar.finish()\n",
    "\n",
    "    return result"
   ]
  },
  {
   "cell_type": "code",
   "execution_count": 3,
   "metadata": {},
   "outputs": [
    {
     "name": "stderr",
     "output_type": "stream",
     "text": [
      "[############################] from 9026 text, tokenizer and tag with date 100%\n"
     ]
    }
   ],
   "source": [
    "nlp = SpacyCustomTokenizer()\n",
    "bar = get_progressbar(len(texts), f' from {len(texts)} text, tokenizer and tag with date ')\n",
    "bar.start()\n",
    "token_list = []\n",
    "for i, data in enumerate(texts):\n",
    "    t, d, _ = data\n",
    "    for token in nlp(t):\n",
    "        token.data = d\n",
    "        token_list.append(token)\n",
    "    bar.update(i + 1)\n",
    "bar.finish()"
   ]
  },
  {
   "cell_type": "code",
   "execution_count": 62,
   "metadata": {},
   "outputs": [
    {
     "name": "stderr",
     "output_type": "stream",
     "text": [
      "[#####################################################] count natural word 100%\r"
     ]
    },
    {
     "name": "stdout",
     "output_type": "stream",
     "text": [
      "('q', 1828) ('cuba', 1479) ('país', 1163) ('pueblo', 1043) ('personas', 971) ('años', 879) ('mundo', 801) ('trabajo', 781) ('precios', 690) ('productos', 667) ('casos', 645) ('vida', 602) ('medidas', 594) ('tiempo', 593) ('gobierno', 555) ('tiendas', 547) ('gracias', 535) ('habana', 513) ('rusia', 507) ('nacional', 503) "
     ]
    },
    {
     "name": "stderr",
     "output_type": "stream",
     "text": [
      "\n"
     ]
    }
   ],
   "source": [
    "natural = count(token_list, lambda x : x.natural_word() and not x.is_stop, ' count natural word ', lambda x: x.text.lower())\n",
    "print_best_word(sorted_by_dict(natural))"
   ]
  },
  {
   "cell_type": "code",
   "execution_count": 65,
   "metadata": {},
   "outputs": [
    {
     "name": "stderr",
     "output_type": "stream",
     "text": [
      "[#####################################################] count natural word 100%\r"
     ]
    },
    {
     "name": "stdout",
     "output_type": "stream",
     "text": [
      "('q', 1814) ('país', 1591) ('cuba', 1474) ('año', 1284) ('persona', 1197) ('cubano', 1182) ('pueblo', 1159) ('ver', 1077) ('precio', 1002) ('medida', 970) ('caso', 940) ('producto', 818) ('mundo', 810) ('trabajo', 805) ('pasar', 773) ('seguir', 747) ('animal', 746) ('problema', 731) ('trabajar', 721) ('tiempo', 707) "
     ]
    },
    {
     "name": "stderr",
     "output_type": "stream",
     "text": [
      "\n"
     ]
    }
   ],
   "source": [
    "lemma = count(token_list, lambda x : x.natural_word() and not x.is_stop, ' count natural word ', lambda x: x.lemma.lower() if x.lemma != None else '')\n",
    "print_best_word(sorted_by_dict(lemma))"
   ]
  },
  {
   "cell_type": "code",
   "execution_count": 42,
   "metadata": {},
   "outputs": [
    {
     "name": "stderr",
     "output_type": "stream",
     "text": [
      "[###########################################################] count emojis 100%\r"
     ]
    },
    {
     "name": "stdout",
     "output_type": "stream",
     "text": [
      "72\n",
      "('👉', 20) ('®', 16) ('⚽', 4) ('☝', 3) ('❤', 3) ('✌', 3) ('📌', 3) ('🔹', 2) ('📍', 2) ('✋', 1) ('🖤', 1) ('🏆', 1) ('☮', 1) ('🌤', 1) ('🌞', 1) ('🚨', 1) ('👇', 1) ('🏻', 1) ('🥩', 1) ('📸', 1) "
     ]
    },
    {
     "name": "stderr",
     "output_type": "stream",
     "text": [
      "\n"
     ]
    }
   ],
   "source": [
    "emojis = count(token_list, lambda x : x.is_emoji(), ' count emojis ')\n",
    "print(total_len(emojis))\n",
    "print_best_word(sorted_by_dict(emojis))"
   ]
  },
  {
   "cell_type": "code",
   "execution_count": 43,
   "metadata": {},
   "outputs": [
    {
     "name": "stderr",
     "output_type": "stream",
     "text": [
      "[######################################################] count any feature 100%\r"
     ]
    },
    {
     "name": "stdout",
     "output_type": "stream",
     "text": [
      "391\n",
      "('4-3', 30) ('3-2', 25) ('2-0', 18) ('5-3', 17) ('3-0', 17) ('3-1', 10) ('4-2', 10) ('2-1', 10) ('5-4', 8) ('6-5', 7) ('5-2', 7) ('30pm', 7) ('00am', 6) ('2021-2026', 6) ('1-0', 6) ('3-3', 5) ('7-4', 5) ('6pm', 5) ('00pm', 5) ('2-2', 5) "
     ]
    },
    {
     "name": "stderr",
     "output_type": "stream",
     "text": [
      "\n"
     ]
    }
   ],
   "source": [
    "date = count(token_list, lambda x : x.is_date() and not x.natural_word() and not x.is_symbol)\n",
    "print(total_len(date))\n",
    "print_best_word(sorted_by_dict(date))"
   ]
  },
  {
   "cell_type": "code",
   "execution_count": 44,
   "metadata": {},
   "outputs": [
    {
     "name": "stderr",
     "output_type": "stream",
     "text": [
      "[######################################################] count any feature 100%\r"
     ]
    },
    {
     "name": "stdout",
     "output_type": "stream",
     "text": [
      "9285\n",
      "('1', 558) ('2', 509) ('3', 368) ('5', 313) ('4', 285) ('10', 264) ('2022', 236) ('6', 233) ('8', 197) ('20', 183) ('000', 174) ('7', 153) ('30', 152) ('15', 141) ('00', 123) ('100', 114) ('12', 114) ('2021', 110) ('50', 108) ('11', 107) "
     ]
    },
    {
     "name": "stderr",
     "output_type": "stream",
     "text": [
      "\n"
     ]
    }
   ],
   "source": [
    "d = count(token_list, lambda x : x.is_digit())\n",
    "print(total_len(d))\n",
    "print_best_word(sorted_by_dict(d))"
   ]
  },
  {
   "cell_type": "code",
   "execution_count": 67,
   "metadata": {},
   "outputs": [
    {
     "name": "stderr",
     "output_type": "stream",
     "text": [
      "[######################################################] count any feature 100%\r"
     ]
    },
    {
     "name": "stdout",
     "output_type": "stream",
     "text": [
      "163\n",
      "('#cuba', 24) ('#', 12) ('#vamoscontodo', 10) ('#cubaviveytrabaja', 6) ('#puentesdeamor', 5) ('#unidadycontinuidad', 5) ('#lahabana', 4) ('#islaprisión', 4) ('#cubavive', 3) ('#biohabana2022', 3) ('#loquenosunecompromiso', 3) ('#ahora', 3) ('#fidel', 3) ('#no', 2) ('#viva', 2) ('#eeuu', 2) ('#noalmaltratoanimal', 2) ('#noalsuicidio', 2) ('#noalaeutanasia', 2) ('#gohalos', 2) "
     ]
    },
    {
     "name": "stderr",
     "output_type": "stream",
     "text": [
      "\n"
     ]
    }
   ],
   "source": [
    "d = count(token_list, lambda x : x.is_hashtag(), map_= lambda x: x.text.lower())\n",
    "print(total_len(d))\n",
    "print_best_word(sorted_by_dict(d))"
   ]
  },
  {
   "cell_type": "code",
   "execution_count": 66,
   "metadata": {},
   "outputs": [
    {
     "name": "stderr",
     "output_type": "stream",
     "text": [
      "[######################################################] count any feature 100%\r"
     ]
    },
    {
     "name": "stdout",
     "output_type": "stream",
     "text": [
      "61\n",
      "('@diazcanelb', 11) ('@partidopcc', 7) ('@mmarrerocruz', 4) ('@brunorguezp', 3) ('@areade_broca', 3) ('@cubaminrex', 3) ('@evoespueblo', 2) ('@salvadorvaldesm', 2) ('@arodriguezap', 2) ('@cubamined', 1) ('@esa', 1) ('@finlayinstituto', 1) ('@leo', 1) ('@javier', 1) ('@yudi_mercedes', 1) ('@colina_vclara', 1) ('@ramon', 1) ('@realbetis', 1) ('@valenciacf', 1) ('@abelprieto11', 1) "
     ]
    },
    {
     "name": "stderr",
     "output_type": "stream",
     "text": [
      "\n"
     ]
    }
   ],
   "source": [
    "d = count(token_list, lambda x : x.is_user_tag(), map_= lambda x: x.text.lower())\n",
    "print(total_len(d))\n",
    "print_best_word(sorted_by_dict(d))"
   ]
  },
  {
   "cell_type": "code",
   "execution_count": 73,
   "metadata": {},
   "outputs": [
    {
     "name": "stderr",
     "output_type": "stream",
     "text": [
      "[######################################################] count any feature 100%\n"
     ]
    }
   ],
   "source": [
    "d = density_time(token_list, lambda x : x.natural_word() and not x.is_stop)"
   ]
  },
  {
   "cell_type": "code",
   "execution_count": 79,
   "metadata": {},
   "outputs": [
    {
     "data": {
      "image/png": "[encoded data removed]",
      "text/plain": [
       "<Figure size 432x288 with 1 Axes>"
      ]
     },
     "metadata": {
      "needs_background": "light"
     },
     "output_type": "display_data"
    }
   ],
   "source": [
    "import numpy as np\n",
    "import matplotlib.pyplot as plt\n",
    " \n",
    "  \n",
    "x = list(d.keys())\n",
    "x.sort()\n",
    "y = [total_len(d[key]) for key in x]\n",
    "  \n",
    " \n",
    "# creating the bar plot\n",
    "plt.barh(x, y, color ='maroon')\n",
    " \n",
    "plt.xlabel(\"Courses offered\")\n",
    "plt.ylabel(\"No. of students enrolled\")\n",
    "plt.title(\"Students enrolled in different courses\")\n",
    "plt.show()"
   ]
  },
  {
   "cell_type": "code",
   "execution_count": null,
   "metadata": {},
   "outputs": [],
   "source": []
  }
 ],
 "metadata": {
  "kernelspec": {
   "display_name": "cuba-digital-lang",
   "language": "python",
   "name": "cuba-digital-lang"
  },
  "language_info": {
   "codemirror_mode": {
    "name": "ipython",
    "version": 3
   },
   "file_extension": ".py",
   "mimetype": "text/x-python",
   "name": "python",
   "nbconvert_exporter": "python",
   "pygments_lexer": "ipython3",
   "version": "3.9.10"
  },
  "orig_nbformat": 4
 },
 "nbformat": 4,
 "nbformat_minor": 2
}
