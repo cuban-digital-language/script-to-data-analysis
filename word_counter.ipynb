{
 "cells": [
  {
   "cell_type": "code",
   "execution_count": 1,
   "metadata": {},
   "outputs": [
    {
     "name": "stderr",
     "output_type": "stream",
     "text": [
      "/Users/dany/.local/share/virtualenvs/cuba-digital-lang-9Kd57kqM/lib/python3.9/site-packages/tqdm/auto.py:22: TqdmWarning: IProgress not found. Please update jupyter and ipywidgets. See https://ipywidgets.readthedocs.io/en/stable/user_install.html\n",
      "  from .autonotebook import tqdm as notebook_tqdm\n"
     ]
    }
   ],
   "source": [
    "from submodulos.tokenizer.custom_tokenizer import SpacyCustomTokenizer\n",
    "from submodulos.data import get_all_text_with_details \n",
    "from submodulos.data.telegram import get_details_text\n",
    "from tools import get_progressbar\n",
    "from datetime import datetime\n",
    "import os\n",
    "\n",
    "texts = get_all_text_with_details(f'{os.getcwd()}/submodulos/data/')"
   ]
  },
  {
   "cell_type": "code",
   "execution_count": 32,
   "metadata": {},
   "outputs": [],
   "source": [
    "def sorted_by_dict(d):\n",
    "    result = [(key, d[key] )for key in d]\n",
    "    result.sort(key= lambda x: x[1], reverse= True)\n",
    "    return result\n",
    "\n",
    "def print_best_word(list_):\n",
    "    for i in range(20):\n",
    "        print(list_[i], end=' ')\n",
    "\n",
    "def total_len(d):\n",
    "    return sum([d[key] for key in d])\n",
    "\n",
    "def count(tokens, predicate, name= ' count any feature ', map_= lambda x: x.text):\n",
    "    bar = get_progressbar(len(tokens), name)\n",
    "\n",
    "    result = {}\n",
    "    bar.start()\n",
    "    for i, t in enumerate(tokens):\n",
    "        if not predicate(t): continue\n",
    "        try: result[map_(t)] += 1\n",
    "        except: result[map_(t)] = 1\n",
    "        bar.update(i + 1)\n",
    "    bar.finish()\n",
    "\n",
    "    return result\n",
    "\n",
    "def density_time(tokens, predicate, name= ' count any feature '):\n",
    "    bar = get_progressbar(len(tokens), name)\n",
    "\n",
    "    result = {}\n",
    "    bar.start()\n",
    "    for i, t in enumerate(tokens):\n",
    "        if not predicate(t): continue\n",
    "        date = str(datetime.strptime(t.data.split(' ')[0], '%Y-%m-%d'))\n",
    "        try: result[date][t.text.lower()] += 1\n",
    "        except KeyError: \n",
    "            try: result[date][t.text.lower()] = 1\n",
    "            except KeyError: \n",
    "                result[date] = {}\n",
    "                result[date][t.text.lower()] = 1\n",
    "            \n",
    "        bar.update(i + 1)\n",
    "    bar.finish()\n",
    "\n",
    "    return result\n",
    "\n",
    "def density_text_by_time(texts, name= ' count any feature '):\n",
    "    bar = get_progressbar(len(texts), name)\n",
    "\n",
    "    result = {}\n",
    "    bar.start()\n",
    "    for i, t in enumerate(texts):\n",
    "        t, d, _ = t\n",
    "        date = str(datetime.strptime(d.split(' ')[0], '%Y-%m-%d'))\n",
    "        try: result[date] += 1\n",
    "        except KeyError: \n",
    "            result[date] = 1\n",
    "            \n",
    "        bar.update(i + 1)\n",
    "    bar.finish()\n",
    "\n",
    "    return result\n"
   ]
  },
  {
   "cell_type": "code",
   "execution_count": 2,
   "metadata": {},
   "outputs": [
    {
     "data": {
      "text/plain": [
       "{'CubaDebate': 9026, 'Facebook': 287, 'Twitter': 109941, 'Telegram': 156440}"
      ]
     },
     "execution_count": 2,
     "metadata": {},
     "output_type": "execute_result"
    }
   ],
   "source": [
    "text_list = {\n",
    "    'CubaDebate': 0,\n",
    "    'Facebook': 0,\n",
    "    'Twitter': 0,\n",
    "    'Telegram': 0\n",
    "}\n",
    "\n",
    "for t, d, n in texts:\n",
    "    text_list[n] += 1\n",
    "\n",
    "text_list"
   ]
  },
  {
   "cell_type": "code",
   "execution_count": 19,
   "metadata": {},
   "outputs": [
    {
     "name": "stderr",
     "output_type": "stream",
     "text": [
      "[##########################] from 177284 text, tokenizer and tag with date 100%\n"
     ]
    }
   ],
   "source": [
    "nlp = SpacyCustomTokenizer()\n",
    "bar = get_progressbar(len(texts), f' from {len(texts)} text, tokenizer and tag with date ')\n",
    "bar.start()\n",
    "token_list = []\n",
    "for i, data in enumerate(texts):\n",
    "    t, d, n = data\n",
    "    for token in nlp(t):\n",
    "        token.data = d\n",
    "        token.source = n\n",
    "        token_list.append(token)\n",
    "    bar.update(i + 1)\n",
    "bar.finish()"
   ]
  },
  {
   "cell_type": "code",
   "execution_count": 20,
   "metadata": {},
   "outputs": [
    {
     "name": "stderr",
     "output_type": "stream",
     "text": [
      "[#####################################################] count natural word 100%\r"
     ]
    },
    {
     "name": "stdout",
     "output_type": "stream",
     "text": [
      "('vip', 53412) ('contraseña', 23434) ('audio', 23057) ('sinopsis', 22080) ('vence', 21777) ('español', 21388) ('género', 21305) ('bot', 21106) ('canal', 19260) ('nombre', 17408) ('tamaño', 15558) ('caps', 15344) ('subtítulos', 15288) ('barcelona', 15062) ('temp', 14624) ('grupo', 14275) ('resubido', 13240) ('mb', 12450) ('q', 11948) ('años', 11554) "
     ]
    },
    {
     "name": "stderr",
     "output_type": "stream",
     "text": [
      "\n"
     ]
    }
   ],
   "source": [
    "natural = count(token_list, lambda x : x.natural_word() and not x.is_stop, ' count natural word ', lambda x: x.text.lower())\n",
    "print_best_word(sorted_by_dict(natural))"
   ]
  },
  {
   "cell_type": "code",
   "execution_count": 21,
   "metadata": {},
   "outputs": [
    {
     "name": "stderr",
     "output_type": "stream",
     "text": [
      "[#####################################################] count natural word 100%\r"
     ]
    },
    {
     "name": "stdout",
     "output_type": "stream",
     "text": [
      "('vip', 51732) ('contraseña', 23325) ('audio', 23066) ('sinopsis', 22080) ('español', 21903) ('vence', 21479) ('género', 21456) ('bot', 21149) ('canal', 19967) ('nombre', 17657) ('tamaño', 15577) ('caps', 15344) ('año', 15343) ('grupo', 14668) ('subtítulos', 14656) ('temp', 14624) ('barcelona', 14226) ('resubido', 13240) ('mb', 12450) ('serie', 12110) "
     ]
    },
    {
     "name": "stderr",
     "output_type": "stream",
     "text": [
      "\n"
     ]
    }
   ],
   "source": [
    "lemma = count(token_list, lambda x : x.natural_word() and not x.is_stop, ' count natural word ', lambda x: x.lemma.lower() if x.lemma != None else '')\n",
    "print_best_word(sorted_by_dict(lemma))"
   ]
  },
  {
   "cell_type": "code",
   "execution_count": 22,
   "metadata": {},
   "outputs": [
    {
     "name": "stderr",
     "output_type": "stream",
     "text": [
      "[###########################################################] count emojis 100%\n"
     ]
    },
    {
     "name": "stdout",
     "output_type": "stream",
     "text": [
      "856638\n",
      "('📲', 96079) ('🤖', 41498) ('‼', 36668) ('⚜', 34960) ('🖥', 32738) ('❗', 23254) ('📣', 21547) ('📝', 21509) ('🔑', 21274) ('🎭', 19236) ('🔊', 17876) ('🕐', 17346) ('💬', 16946) ('🎬', 16942) ('📼', 16876) ('📀', 14784) ('💎', 14673) ('✅', 12884) ('❤', 12240) ('🔱', 11844) "
     ]
    }
   ],
   "source": [
    "emojis = count(token_list, lambda x : x.is_emoji(), ' count emojis ')\n",
    "print(total_len(emojis))\n",
    "print_best_word(sorted_by_dict(emojis))"
   ]
  },
  {
   "cell_type": "code",
   "execution_count": 23,
   "metadata": {},
   "outputs": [
    {
     "name": "stderr",
     "output_type": "stream",
     "text": [
      "[######################################################] count any feature 100%\n"
     ]
    },
    {
     "name": "stdout",
     "output_type": "stream",
     "text": [
      "23662\n",
      "('00pm', 2332) ('30pm', 1053) ('0-0', 970) ('1-2', 728) ('00am', 709) ('45pm', 590) ('1-0', 584) ('mp4', 528) ('0-1', 526) ('11pm', 497) ('1-1', 487) ('1914-1918', 416) ('5-6', 397) ('4pm', 392) ('2-1', 322) ('3-4', 317) ('2pm', 279) ('9-10', 272) ('10pm', 261) ('20pm', 257) "
     ]
    }
   ],
   "source": [
    "date = count(token_list, lambda x : x.is_date() and not x.natural_word() and not x.is_symbol)\n",
    "print(total_len(date))\n",
    "print_best_word(sorted_by_dict(date))"
   ]
  },
  {
   "cell_type": "code",
   "execution_count": 24,
   "metadata": {},
   "outputs": [
    {
     "name": "stderr",
     "output_type": "stream",
     "text": [
      "[######################################################] count any feature 100%\r"
     ]
    },
    {
     "name": "stdout",
     "output_type": "stream",
     "text": [
      "227916\n",
      "('1', 20001) ('10', 13924) ('2', 12037) ('9', 11287) ('3', 10425) ('4', 7556) ('21', 7071) ('5', 6547) ('8', 5774) ('0', 5650) ('11', 5512) ('7', 5285) ('00', 5193) ('20', 4890) ('6', 4790) ('30', 4683) ('12', 4642) ('2021', 3196) ('15', 3143) ('09', 2684) "
     ]
    },
    {
     "name": "stderr",
     "output_type": "stream",
     "text": [
      "\n"
     ]
    }
   ],
   "source": [
    "d = count(token_list, lambda x : x.is_digit())\n",
    "print(total_len(d))\n",
    "print_best_word(sorted_by_dict(d))"
   ]
  },
  {
   "cell_type": "code",
   "execution_count": 25,
   "metadata": {},
   "outputs": [
    {
     "name": "stderr",
     "output_type": "stream",
     "text": [
      "[######################################################] count any feature 100%\n"
     ]
    },
    {
     "name": "stdout",
     "output_type": "stream",
     "text": [
      "16896\n",
      "('#forçabarça', 712) ('#fcbarcelona', 648) ('#cuba', 594) ('#somosuh', 568) ('#somosfeu', 519) ('#koemanout', 300) ('#fcb', 294) ('#masia', 288) ('#gratis', 224) ('#vip', 224) ('#anime', 209) ('#elclásico', 180) ('#misterseitan', 152) ('#lalupa', 152) ('#dictadurafcb', 140) ('#goat', 136) ('#barçacelta', 128) ('#', 116) ('#barcelona', 112) ('#vamoscontodo', 111) "
     ]
    }
   ],
   "source": [
    "d = count(token_list, lambda x : x.is_hashtag(), map_= lambda x: x.text.lower())\n",
    "print(total_len(d))\n",
    "print_best_word(sorted_by_dict(d))"
   ]
  },
  {
   "cell_type": "code",
   "execution_count": 26,
   "metadata": {},
   "outputs": [
    {
     "name": "stderr",
     "output_type": "stream",
     "text": [
      "[######################################################] count any feature 100%\n"
     ]
    },
    {
     "name": "stdout",
     "output_type": "stream",
     "text": [
      "153478\n",
      "('@noticiasbarcelona', 48988) ('@s3spn', 44208) ('@s3youbot', 20240) ('@victornoel89', 3712) ('@curioseo', 1890) ('@lejandrosagua', 1488) ('@', 1319) ('@zona3dcuba', 1218) ('@reiniers94', 1072) ('@mailyn1993', 1056) ('@claudiaflores99', 1040) ('@dphoenixkirito', 864) ('@assiela90', 736) ('@zona3d', 574) ('@r_d_colomina', 512) ('@atds3', 502) ('@supers3plus', 496) ('@dayamy_amy', 416) ('@laligasan', 416) ('@theshowtimes3', 400) "
     ]
    }
   ],
   "source": [
    "d = count(token_list, lambda x : x.is_user_tag(), map_= lambda x: x.text.lower())\n",
    "print(total_len(d))\n",
    "print_best_word(sorted_by_dict(d))"
   ]
  },
  {
   "cell_type": "code",
   "execution_count": 33,
   "metadata": {},
   "outputs": [
    {
     "name": "stderr",
     "output_type": "stream",
     "text": [
      "[######################################################] count any feature 100%\n",
      "[######################################################] count any feature 100%\n"
     ]
    }
   ],
   "source": [
    "d = density_time(token_list, lambda x : x.natural_word() and not x.is_stop)\n",
    "d_plus = density_text_by_time(texts) "
   ]
  },
  {
   "cell_type": "code",
   "execution_count": 28,
   "metadata": {},
   "outputs": [
    {
     "data": {
      "image/png": "[encoded data removed]",
      "text/plain": [
       "<Figure size 432x288 with 1 Axes>"
      ]
     },
     "metadata": {
      "needs_background": "light"
     },
     "output_type": "display_data"
    }
   ],
   "source": [
    "import numpy as np\n",
    "import matplotlib.pyplot as plt\n",
    " \n",
    "  \n",
    "x = list(d.keys())\n",
    "x.sort()\n",
    "y = [total_len(d[key])/d_plus[key] for key in x]\n",
    "  \n",
    " \n",
    "# creating the bar plot\n",
    "plt.barh(x, y, color ='maroon')\n",
    " \n",
    "plt.xlabel(\"Courses offered\")\n",
    "plt.ylabel(\"No. of students enrolled\")\n",
    "plt.title(\"Students enrolled in different courses\")\n",
    "plt.show()"
   ]
  },
  {
   "cell_type": "code",
   "execution_count": 31,
   "metadata": {},
   "outputs": [],
   "source": [
    "import json\n",
    "\n",
    "with open('results/word-day.json', 'w+') as f:\n",
    "    f.write(json.dumps(d))\n",
    "\n",
    "\n",
    "with open('results/text-day.json', 'w+') as f:\n",
    "    f.write(json.dumps(d_plus))"
   ]
  },
  {
   "cell_type": "code",
   "execution_count": null,
   "metadata": {},
   "outputs": [],
   "source": []
  }
 ],
 "metadata": {
  "kernelspec": {
   "display_name": "cuba-digital-lang",
   "language": "python",
   "name": "cuba-digital-lang"
  },
  "language_info": {
   "codemirror_mode": {
    "name": "ipython",
    "version": 3
   },
   "file_extension": ".py",
   "mimetype": "text/x-python",
   "name": "python",
   "nbconvert_exporter": "python",
   "pygments_lexer": "ipython3",
   "version": "3.9.10"
  },
  "orig_nbformat": 4
 },
 "nbformat": 4,
 "nbformat_minor": 2
}
